{
  "nbformat": 4,
  "nbformat_minor": 0,
  "metadata": {
    "colab": {
      "name": "04-1_함수.ipynb",
      "provenance": [],
      "collapsed_sections": [],
      "authorship_tag": "ABX9TyMuwO8bouF06o0GlqzSu++8",
      "include_colab_link": true
    },
    "kernelspec": {
      "name": "python3",
      "display_name": "Python 3"
    }
  },
  "cells": [
    {
      "cell_type": "markdown",
      "metadata": {
        "id": "view-in-github",
        "colab_type": "text"
      },
      "source": [
        "<a href=\"https://colab.research.google.com/github/roum02/python/blob/main/04_1_%ED%95%A8%EC%88%98.ipynb\" target=\"_parent\"><img src=\"https://colab.research.google.com/assets/colab-badge.svg\" alt=\"Open In Colab\"/></a>"
      ]
    },
    {
      "cell_type": "code",
      "metadata": {
        "id": "MwQTgjM8jEq_"
      },
      "source": [
        "def sum(a,b):\r\n",
        "  return a + b"
      ],
      "execution_count": null,
      "outputs": []
    },
    {
      "cell_type": "code",
      "metadata": {
        "colab": {
          "base_uri": "https://localhost:8080/"
        },
        "id": "MAy1YWRojMg7",
        "outputId": "53fc4b7f-9296-429c-c6e4-0308673ca867"
      },
      "source": [
        "a = 3\r\n",
        "b = 4\r\n",
        "c = sum(a,b)\r\n",
        "print(c)"
      ],
      "execution_count": null,
      "outputs": [
        {
          "output_type": "stream",
          "text": [
            "7\n"
          ],
          "name": "stdout"
        }
      ]
    },
    {
      "cell_type": "code",
      "metadata": {
        "id": "OewGV-cNjTUa"
      },
      "source": [
        "def say():\r\n",
        "  return 'Hi'"
      ],
      "execution_count": null,
      "outputs": []
    },
    {
      "cell_type": "code",
      "metadata": {
        "colab": {
          "base_uri": "https://localhost:8080/",
          "height": 35
        },
        "id": "hlcIgM0jkNy2",
        "outputId": "0a6721ea-d9a0-487f-cd77-f4b463e785cc"
      },
      "source": [
        "say()"
      ],
      "execution_count": null,
      "outputs": [
        {
          "output_type": "execute_result",
          "data": {
            "application/vnd.google.colaboratory.intrinsic+json": {
              "type": "string"
            },
            "text/plain": [
              "'Hi'"
            ]
          },
          "metadata": {
            "tags": []
          },
          "execution_count": 4
        }
      ]
    },
    {
      "cell_type": "code",
      "metadata": {
        "id": "XozAALuQkOl4"
      },
      "source": [
        "#결과값이 없는 문장.\r\n",
        "#print를 사용하였을 때, 이것은 결과값이 아니라, '수행할 문장'에 해당하는 부분일 뿐이다.\r\n",
        "\r\n",
        "def sum(a,b):\r\n",
        "  print(\"%d, %d의 합은 %d 입니다.\"%(a,b,a+b))"
      ],
      "execution_count": null,
      "outputs": []
    },
    {
      "cell_type": "code",
      "metadata": {
        "colab": {
          "base_uri": "https://localhost:8080/"
        },
        "id": "LSz_o5BvkkS6",
        "outputId": "61bacbaf-ae2c-49d0-f1ac-e72e9a89b62f"
      },
      "source": [
        "a = sum(3,4)\r\n",
        "print(a)"
      ],
      "execution_count": null,
      "outputs": [
        {
          "output_type": "stream",
          "text": [
            "3, 4의 합은 7 입니다.\n",
            "None\n"
          ],
          "name": "stdout"
        }
      ]
    },
    {
      "cell_type": "code",
      "metadata": {
        "id": "vud6ttugkoVa"
      },
      "source": [
        "#입력값이 몇 개가 될지 모르는 경우\r\n",
        "# *args 처럼 입력 변수명 앞에 *을 붙이면 입력값들을 전부 모아서 튜플로 만들어준다.\r\n",
        "#여러 개의 입력값을 모두 더하는 함수\r\n",
        "\r\n",
        "def sum_many(*args):\r\n",
        "  sum = 0\r\n",
        "  for i in args:\r\n",
        "    sum = i + sum\r\n",
        "  return sum"
      ],
      "execution_count": null,
      "outputs": []
    },
    {
      "cell_type": "code",
      "metadata": {
        "id": "-zW6pe5bm3ID",
        "colab": {
          "base_uri": "https://localhost:8080/"
        },
        "outputId": "25331385-e5d2-4bdf-c1ec-ce5fbade0e89"
      },
      "source": [
        "result = sum_many(1,2,3)\r\n",
        "print(result)"
      ],
      "execution_count": null,
      "outputs": [
        {
          "output_type": "stream",
          "text": [
            "6\n"
          ],
          "name": "stdout"
        }
      ]
    },
    {
      "cell_type": "code",
      "metadata": {
        "id": "zqBkxgTVx2Hf"
      },
      "source": [
        "def sum_mul(choice, *arg):\r\n",
        "  if choice == \"sum\":\r\n",
        "    result = 0\r\n",
        "    for i in arg:\r\n",
        "      result = i + result\r\n",
        "  elif choice == \"mul\":\r\n",
        "    result = 1\r\n",
        "    for i in arg:\r\n",
        "      result = i * result\r\n",
        "  return result\r\n"
      ],
      "execution_count": null,
      "outputs": []
    },
    {
      "cell_type": "code",
      "metadata": {
        "colab": {
          "base_uri": "https://localhost:8080/"
        },
        "id": "tFHvOC7qyzPd",
        "outputId": "f5d76f88-5f0c-4418-a8f9-43381f8e1c11"
      },
      "source": [
        "sum_mul(\"mul\", 1,2,3,4,5)"
      ],
      "execution_count": null,
      "outputs": [
        {
          "output_type": "execute_result",
          "data": {
            "text/plain": [
              "120"
            ]
          },
          "metadata": {
            "tags": []
          },
          "execution_count": 5
        }
      ]
    },
    {
      "cell_type": "code",
      "metadata": {
        "id": "2_5J0gxCy4kr"
      },
      "source": [
        "#함수의 결과값은 언제나 하나이다.\r\n",
        "\r\n",
        "def sum_and_mul(a,b):\r\n",
        "  return a+b, a*b"
      ],
      "execution_count": null,
      "outputs": []
    },
    {
      "cell_type": "code",
      "metadata": {
        "colab": {
          "base_uri": "https://localhost:8080/"
        },
        "id": "E3w2HrnxzMBK",
        "outputId": "968aa951-6bbd-4c27-d349-da8617da4cb4"
      },
      "source": [
        "result = sum_and_mul(3,4)\r\n",
        "print(result)"
      ],
      "execution_count": null,
      "outputs": [
        {
          "output_type": "stream",
          "text": [
            "(7, 12)\n"
          ],
          "name": "stdout"
        }
      ]
    },
    {
      "cell_type": "code",
      "metadata": {
        "colab": {
          "base_uri": "https://localhost:8080/"
        },
        "id": "ID42jUWkzOYi",
        "outputId": "6cd2491c-4bd0-481a-8e0b-66aa91dcf06b"
      },
      "source": [
        "sum, mul = sum_and_mul(3,4)\r\n",
        "print(sum, mul)"
      ],
      "execution_count": null,
      "outputs": [
        {
          "output_type": "stream",
          "text": [
            "7 12\n"
          ],
          "name": "stdout"
        }
      ]
    },
    {
      "cell_type": "code",
      "metadata": {
        "id": "CRetwHSAzcsn"
      },
      "source": [
        "def sum_and_mul(a,b):\r\n",
        "  return a+b\r\n",
        "  return a*b"
      ],
      "execution_count": null,
      "outputs": []
    },
    {
      "cell_type": "code",
      "metadata": {
        "colab": {
          "base_uri": "https://localhost:8080/"
        },
        "id": "mnRrWP-Rzsv-",
        "outputId": "b2c3a6a7-ce49-4c5a-9bf3-744feb3b6c0d"
      },
      "source": [
        "result = sum_and_mul(3,4)\r\n",
        "print(result)"
      ],
      "execution_count": null,
      "outputs": [
        {
          "output_type": "stream",
          "text": [
            "7\n"
          ],
          "name": "stdout"
        }
      ]
    },
    {
      "cell_type": "code",
      "metadata": {
        "id": "NvtJjzMPzuk2"
      },
      "source": [
        "#return의 또 다른 쓰임새\r\n",
        "def say_nick(nick):\r\n",
        "  if nick == \"바보\":\r\n",
        "    return\r\n",
        "  print(\"나의 별명은 %s입니다.\" % nick)"
      ],
      "execution_count": null,
      "outputs": []
    },
    {
      "cell_type": "code",
      "metadata": {
        "id": "Kq8PVqu50V52"
      },
      "source": [
        "say_nick(\"바보\")"
      ],
      "execution_count": null,
      "outputs": []
    },
    {
      "cell_type": "code",
      "metadata": {
        "colab": {
          "base_uri": "https://localhost:8080/"
        },
        "id": "Hh2Umxyy0YMJ",
        "outputId": "cab84b2f-9594-4b5f-e1cc-6475ec699174"
      },
      "source": [
        "say_nick(\"바보탱\")"
      ],
      "execution_count": null,
      "outputs": [
        {
          "output_type": "stream",
          "text": [
            "나의 별명은 바보탱입니다.\n"
          ],
          "name": "stdout"
        }
      ]
    },
    {
      "cell_type": "code",
      "metadata": {
        "id": "pCdUvp0s0aw9"
      },
      "source": [
        "#입력 인수에 초깃값 미리 설정하기\r\n",
        "def say_myself(name, old, woman=True):\r\n",
        "  print(\"나의 이름은 %s입니다.\" %name)\r\n",
        "  print(\"나이는 %d살 입니다.\" %old)\r\n",
        "  if woman:\r\n",
        "    print(\"여자입니다.\")\r\n",
        "  else:\r\n",
        "    print(\"남자입니다.\")\r\n",
        "\r\n",
        "#단, 초깃값 설정한 변수는 맨 마지막에 적어야 한다."
      ],
      "execution_count": null,
      "outputs": []
    },
    {
      "cell_type": "code",
      "metadata": {
        "colab": {
          "base_uri": "https://localhost:8080/"
        },
        "id": "3mZHs4sx2kR2",
        "outputId": "7b76b54b-72c2-4332-d2af-5ca20302db89"
      },
      "source": [
        "say_myself(\"박응용\",27)"
      ],
      "execution_count": null,
      "outputs": [
        {
          "output_type": "stream",
          "text": [
            "나의 이름은 박응용입니다.\n",
            "나이는 27살 입니다.\n",
            "여자입니다.\n"
          ],
          "name": "stdout"
        }
      ]
    },
    {
      "cell_type": "code",
      "metadata": {
        "colab": {
          "base_uri": "https://localhost:8080/"
        },
        "id": "_G4kExpK2oDW",
        "outputId": "751123e1-4f37-4944-a9c4-fcdc312af30f"
      },
      "source": [
        "#함수 안에서 선언된 변수의 효력 범위\r\n",
        "a = 1\r\n",
        "#del(a)\r\n",
        "def vartest(a):\r\n",
        "  a = a + 1\r\n",
        "  return a\r\n",
        "\r\n",
        "vartest(a)"
      ],
      "execution_count": null,
      "outputs": [
        {
          "output_type": "execute_result",
          "data": {
            "text/plain": [
              "2"
            ]
          },
          "metadata": {
            "tags": []
          },
          "execution_count": 36
        }
      ]
    },
    {
      "cell_type": "code",
      "metadata": {
        "colab": {
          "base_uri": "https://localhost:8080/",
          "height": 208
        },
        "id": "-RqvWGNm7Lgv",
        "outputId": "9c5cf948-3ef7-42a5-ad18-fcab35ca3596"
      },
      "source": [
        "def vartest_error(a):\r\n",
        "  a = a + 1\r\n",
        "\r\n",
        "vartest_error(3)\r\n",
        "print(a)"
      ],
      "execution_count": null,
      "outputs": [
        {
          "output_type": "error",
          "ename": "NameError",
          "evalue": "ignored",
          "traceback": [
            "\u001b[0;31m---------------------------------------------------------------------------\u001b[0m",
            "\u001b[0;31mNameError\u001b[0m                                 Traceback (most recent call last)",
            "\u001b[0;32m<ipython-input-35-c717b285c3a0>\u001b[0m in \u001b[0;36m<module>\u001b[0;34m()\u001b[0m\n\u001b[1;32m      3\u001b[0m \u001b[0;34m\u001b[0m\u001b[0m\n\u001b[1;32m      4\u001b[0m \u001b[0mvartest_error\u001b[0m\u001b[0;34m(\u001b[0m\u001b[0;36m3\u001b[0m\u001b[0;34m)\u001b[0m\u001b[0;34m\u001b[0m\u001b[0;34m\u001b[0m\u001b[0m\n\u001b[0;32m----> 5\u001b[0;31m \u001b[0mprint\u001b[0m\u001b[0;34m(\u001b[0m\u001b[0ma\u001b[0m\u001b[0;34m)\u001b[0m\u001b[0;34m\u001b[0m\u001b[0;34m\u001b[0m\u001b[0m\n\u001b[0m",
            "\u001b[0;31mNameError\u001b[0m: name 'a' is not defined"
          ]
        }
      ]
    },
    {
      "cell_type": "code",
      "metadata": {
        "colab": {
          "base_uri": "https://localhost:8080/"
        },
        "id": "_1-6gpo37b01",
        "outputId": "a0463847-db7a-43ed-e386-52bda9c03e45"
      },
      "source": [
        "#함수 안에서 함수 밖의 변수를 변경하는 방법\r\n",
        "#1. return 이용하기\r\n",
        "\r\n",
        "a = 1\r\n",
        "def vartest(a):\r\n",
        "  a = a+1\r\n",
        "  return a\r\n",
        "\r\n",
        "a = vartest(a)\r\n",
        "print(a)"
      ],
      "execution_count": null,
      "outputs": [
        {
          "output_type": "stream",
          "text": [
            "2\n"
          ],
          "name": "stdout"
        }
      ]
    },
    {
      "cell_type": "code",
      "metadata": {
        "colab": {
          "base_uri": "https://localhost:8080/"
        },
        "id": "vaYsZD4T87AM",
        "outputId": "f7519414-d46a-401a-9b7b-64f69dbdfd1d"
      },
      "source": [
        "# 2. global 명령어 사용하기\r\n",
        "\r\n",
        "a = 1\r\n",
        "def vartest():\r\n",
        "  global a\r\n",
        "  a = a+1\r\n",
        "\r\n",
        "vartest()\r\n",
        "print(a)\r\n",
        "\r\n",
        "#그러나 프로그래밍을 할 때 global을 사용하지 않는 것이 좋다. 왜냐하면 함수는 독립적으로 존재하는 것이 좋기 때문이다.\r\n",
        "#외부 변수에 종속적인 함수는 좋은 함수가 아니다. 따라서 첫 번째 방법을 사용하갈 권한다."
      ],
      "execution_count": null,
      "outputs": [
        {
          "output_type": "stream",
          "text": [
            "2\n"
          ],
          "name": "stdout"
        }
      ]
    },
    {
      "cell_type": "code",
      "metadata": {
        "id": "EFcTA2Ze975o"
      },
      "source": [
        ""
      ],
      "execution_count": null,
      "outputs": []
    }
  ]
}