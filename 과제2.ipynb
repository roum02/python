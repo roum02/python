{
  "nbformat": 4,
  "nbformat_minor": 0,
  "metadata": {
    "colab": {
      "name": "과제2.ipynb",
      "provenance": [],
      "collapsed_sections": [],
      "authorship_tag": "ABX9TyMKd4An4xgB7R2KGLn33JYH"
    },
    "kernelspec": {
      "name": "python3",
      "display_name": "Python 3"
    },
    "language_info": {
      "name": "python"
    }
  },
  "cells": [
    {
      "cell_type": "markdown",
      "metadata": {
        "id": "UKVjyd83CMHi"
      },
      "source": [
        "2-1: 0과 100 사이의 수 중에서 7의 배수의 합을 구하여라"
      ]
    },
    {
      "cell_type": "code",
      "metadata": {
        "colab": {
          "base_uri": "https://localhost:8080/"
        },
        "id": "EVK_PqJtB7a3",
        "outputId": "cdc37673-1f91-4b29-cb7c-6aada961bf4f"
      },
      "source": [
        "def mul_seven():\n",
        "  sum = 0\n",
        "  \n",
        "  for i in range(0,100):\n",
        "    if i%7 == 0:\n",
        "      sum = sum + i\n",
        "  return sum\n",
        "\n",
        "mul_seven()"
      ],
      "execution_count": 2,
      "outputs": [
        {
          "output_type": "execute_result",
          "data": {
            "text/plain": [
              "735"
            ]
          },
          "metadata": {
            "tags": []
          },
          "execution_count": 2
        }
      ]
    },
    {
      "cell_type": "markdown",
      "metadata": {
        "id": "QlC9bjREDKL8"
      },
      "source": [
        "과제 2-2: 사용자가 입력한 숫자의 단부터 구구단을 역순으로 출력\n",
        "\n",
        "조건1: 사용자로부터 시작 단 입력받음\n",
        "\n",
        "조건2: 사용자가 정확한 단을 입력하지 않았을 경우 오류 메시지를 보내고 다시 입력받음\n",
        "\n",
        "조건3: 입력 받은 단부터 구구단을 역순으로 출력한다\n",
        "\n",
        "조건4: 출력한 구구단을 가로로 출력한다\n",
        "\n",
        "조건5: 각 단 역시 역순으로 출력한다"
      ]
    },
    {
      "cell_type": "code",
      "metadata": {
        "colab": {
          "base_uri": "https://localhost:8080/"
        },
        "id": "dvj66O9rDGUg",
        "outputId": "b1a069d9-799a-4759-ed0a-81f98f252098"
      },
      "source": [
        "def gugudan():\n",
        "  while True:\n",
        "    dan = int(input(\"출력을 시작할 단 입력\"))\n",
        "    if not 1 < dan < 10:\n",
        "      print(\"입력한 단수의 값이 잘못되었습니다.\")\n",
        "      print(\"다시 입력해 주세요 (입력할 값의 범위 : 2~9)\")\n",
        "    else:\n",
        "      break\n",
        "\n",
        "  guguLine = \"\"\n",
        "  for i in range(dan, 1, -1):\n",
        "    guguLine = guguLine + str(\"-   %d단   - \" %i)\n",
        "  print(guguLine)\n",
        "\n",
        "  for i in range(9, 0, -1):\n",
        "    guguLine = \"\"\n",
        "    for j in range(dan, 1, -1):\n",
        "      guguLine = guguLine + str(\"%2d X %2d = %2d\" % (j, i, j*i))\n",
        "    print(guguLine)\n",
        "\n",
        "\n",
        "gugudan()"
      ],
      "execution_count": 29,
      "outputs": [
        {
          "output_type": "stream",
          "text": [
            "출력을 시작할 단 입력10\n",
            "입력한 단수의 값이 잘못되었습니다.\n",
            "다시 입력해 주세요 (입력할 값의 범위 : 2~9)\n",
            "출력을 시작할 단 입력7\n",
            "-   7단   - -   6단   - -   5단   - -   4단   - -   3단   - -   2단   - \n",
            " 7 X  9 = 63 6 X  9 = 54 5 X  9 = 45 4 X  9 = 36 3 X  9 = 27 2 X  9 = 18\n",
            " 7 X  8 = 56 6 X  8 = 48 5 X  8 = 40 4 X  8 = 32 3 X  8 = 24 2 X  8 = 16\n",
            " 7 X  7 = 49 6 X  7 = 42 5 X  7 = 35 4 X  7 = 28 3 X  7 = 21 2 X  7 = 14\n",
            " 7 X  6 = 42 6 X  6 = 36 5 X  6 = 30 4 X  6 = 24 3 X  6 = 18 2 X  6 = 12\n",
            " 7 X  5 = 35 6 X  5 = 30 5 X  5 = 25 4 X  5 = 20 3 X  5 = 15 2 X  5 = 10\n",
            " 7 X  4 = 28 6 X  4 = 24 5 X  4 = 20 4 X  4 = 16 3 X  4 = 12 2 X  4 =  8\n",
            " 7 X  3 = 21 6 X  3 = 18 5 X  3 = 15 4 X  3 = 12 3 X  3 =  9 2 X  3 =  6\n",
            " 7 X  2 = 14 6 X  2 = 12 5 X  2 = 10 4 X  2 =  8 3 X  2 =  6 2 X  2 =  4\n",
            " 7 X  1 =  7 6 X  1 =  6 5 X  1 =  5 4 X  1 =  4 3 X  1 =  3 2 X  1 =  2\n"
          ],
          "name": "stdout"
        }
      ]
    },
    {
      "cell_type": "markdown",
      "metadata": {
        "id": "N3MkLF92JXxH"
      },
      "source": [
        ""
      ]
    },
    {
      "cell_type": "code",
      "metadata": {
        "colab": {
          "base_uri": "https://localhost:8080/"
        },
        "id": "pqgizpnWEqaO",
        "outputId": "42b8e194-3f02-4742-aec4-3b4eb8a6f4bf"
      },
      "source": [
        ""
      ],
      "execution_count": 10,
      "outputs": [
        {
          "output_type": "execute_result",
          "data": {
            "text/plain": [
              "2"
            ]
          },
          "metadata": {
            "tags": []
          },
          "execution_count": 10
        }
      ]
    },
    {
      "cell_type": "code",
      "metadata": {
        "id": "JbwWB-2QFNhm"
      },
      "source": [
        ""
      ],
      "execution_count": null,
      "outputs": []
    }
  ]
}