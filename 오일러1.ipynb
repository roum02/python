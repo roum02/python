{
  "nbformat": 4,
  "nbformat_minor": 0,
  "metadata": {
    "colab": {
      "name": "오일러1.ipynb",
      "provenance": [],
      "authorship_tag": "ABX9TyN0MN/UPZ+0YqecFiTjiT/D",
      "include_colab_link": true
    },
    "kernelspec": {
      "name": "python3",
      "display_name": "Python 3"
    }
  },
  "cells": [
    {
      "cell_type": "markdown",
      "metadata": {
        "id": "view-in-github",
        "colab_type": "text"
      },
      "source": [
        "<a href=\"https://colab.research.google.com/github/roum02/python/blob/main/%EC%98%A4%EC%9D%BC%EB%9F%AC1.ipynb\" target=\"_parent\"><img src=\"https://colab.research.google.com/assets/colab-badge.svg\" alt=\"Open In Colab\"/></a>"
      ]
    },
    {
      "cell_type": "code",
      "metadata": {
        "colab": {
          "base_uri": "https://localhost:8080/"
        },
        "id": "mxHtJWIc5o8b",
        "outputId": "884123f6-e767-4a86-8f85-07967618b379"
      },
      "source": [
        "#1000보다 작은 자연수 중에서 3 또는 5의 배수를 모두 더하면?\r\n",
        "\r\n",
        "\r\n",
        "def mul():\r\n",
        "  \r\n",
        "  sum = 0\r\n",
        "  for i in range(1, 1000):\r\n",
        "    \r\n",
        "    if i%3 == 0 or i%5 == 0 :\r\n",
        "      sum = sum + i\r\n",
        "  return sum\r\n",
        "\r\n",
        "\r\n",
        "def mul2():\r\n",
        "  sum = 0\r\n",
        "  n = 1\r\n",
        "  while n < 10:\r\n",
        "    if i%3 == 0 or i%5 == 0:\r\n",
        "      sum = sum +i\r\n",
        "      n = n+1\r\n",
        "\r\n",
        "    return sum\r\n",
        "\r\n",
        "    \r\n",
        "\r\n",
        "mul()"
      ],
      "execution_count": null,
      "outputs": [
        {
          "output_type": "execute_result",
          "data": {
            "text/plain": [
              "233168"
            ]
          },
          "metadata": {
            "tags": []
          },
          "execution_count": 26
        }
      ]
    },
    {
      "cell_type": "code",
      "metadata": {
        "id": "A_drMbRu6vTO"
      },
      "source": [
        ""
      ],
      "execution_count": null,
      "outputs": []
    }
  ]
}